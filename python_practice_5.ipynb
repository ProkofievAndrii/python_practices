{
  "nbformat": 4,
  "nbformat_minor": 0,
  "metadata": {
    "colab": {
      "provenance": []
    },
    "kernelspec": {
      "name": "python3",
      "display_name": "Python 3"
    },
    "language_info": {
      "name": "python"
    }
  },
  "cells": [
    {
      "cell_type": "markdown",
      "source": [
        "# I. OOP"
      ],
      "metadata": {
        "id": "5qV_sehzFCTp"
      }
    },
    {
      "cell_type": "markdown",
      "source": [
        "1. (6б). Створіть клас Animal, додайте три атрибути, один з яких має значення за замовчуванням та два методи на свій розсуд."
      ],
      "metadata": {
        "id": "tx_U_hOALyfg"
      }
    },
    {
      "cell_type": "code",
      "source": [
        "class Animal:\n",
        "  def __init__(self, name, species, mood=\"unknown\", sound=\"\"):\n",
        "    self.name = name\n",
        "    self.species = species\n",
        "    self.mood = mood\n",
        "    self.sound = sound\n",
        "\n",
        "  def full_info(self):\n",
        "    print(f\"Animal info: name: {self.name}, species: {self.species}, mood: {self.mood}\")\n",
        "\n",
        "  def make_sound(self):\n",
        "    if self.sound:\n",
        "      print(f\"{self.name} sounds like {self.sound}\")\n",
        "    else:\n",
        "      print(f\"{self.name} does not make sound\")"
      ],
      "metadata": {
        "id": "-Vf895KaL88N",
        "colab": {
          "base_uri": "https://localhost:8080/"
        },
        "outputId": "ed709a16-19f0-4a4f-f567-c618249b963a"
      },
      "execution_count": 7,
      "outputs": [
        {
          "output_type": "stream",
          "name": "stdout",
          "text": [
            "Elo does not make sound\n",
            "Leo sounds like RAAAAWWWWR\n",
            "Animal info: name: Elo, species: Elephant, mood: unknown\n",
            "Animal info: name: Leo, species: Lion, mood: satisfied\n"
          ]
        }
      ]
    },
    {
      "cell_type": "markdown",
      "source": [
        "2. (2б). Створіть два обʼєкти цього класу, де один з обʼєктів створюється із дефолтним значенням атрибуту. На одному обʼєкті отримайте значення його атрибуту, а на іншому викличте один з його методів."
      ],
      "metadata": {
        "id": "X_UlOMB0L93w"
      }
    },
    {
      "cell_type": "code",
      "source": [
        "elephant1 = Animal(name = \"Elo\", species = \"Elephant\")\n",
        "lion1 = Animal(name = \"Leo\", species = \"Lion\", mood = \"satisfied\", sound = \"RAAAAWWWWR\")\n",
        "\n",
        "elephant1.make_sound()\n",
        "print(lion1.name)"
      ],
      "metadata": {
        "id": "7gBu0ESOMCpG",
        "colab": {
          "base_uri": "https://localhost:8080/"
        },
        "outputId": "05a0863a-d7a9-446a-84b5-e16655170d2e"
      },
      "execution_count": 8,
      "outputs": [
        {
          "output_type": "stream",
          "name": "stdout",
          "text": [
            "Elo does not make sound\n",
            "Leo\n"
          ]
        }
      ]
    },
    {
      "cell_type": "markdown",
      "source": [
        "3. (5б). Створіть клас, де атрибути мають різні рівні доступу. Спробуйте отримати їхні значення та опишіть результати."
      ],
      "metadata": {
        "id": "HoqSCZt1MHn5"
      }
    },
    {
      "cell_type": "code",
      "source": [
        "class MyClass:\n",
        "    def __init__(self):\n",
        "        self.public_attribute = \"Public\"\n",
        "        self._protected_attribute = \"Protected\"\n",
        "        self.__private_attribute = \"Private\"\n",
        "\n",
        "example = MyClass()\n",
        "print(\"Public Attribute:\", example.public_attribute)\n",
        "print(\"Protected Attribute:\", example._protected_attribute)\n",
        "try:\n",
        "    print(\"Private Attribute:\", example.__private_attribute)\n",
        "except AttributeError as e:\n",
        "    print(\"Error:\", e)\n"
      ],
      "metadata": {
        "id": "r9b3vJxBMSPV",
        "colab": {
          "base_uri": "https://localhost:8080/"
        },
        "outputId": "ab8edbbe-59c7-4ace-842e-e179ef65dda0"
      },
      "execution_count": 9,
      "outputs": [
        {
          "output_type": "stream",
          "name": "stdout",
          "text": [
            "Public Attribute: Public\n",
            "Protected Attribute: Protected\n",
            "Error: 'MyClass' object has no attribute '__private_attribute'\n"
          ]
        }
      ]
    },
    {
      "cell_type": "markdown",
      "source": [
        "4. (7б). Як ви розумієте термін self? Для чого використовується метод __init __?"
      ],
      "metadata": {
        "id": "5op2m2vgMSkZ"
      }
    },
    {
      "cell_type": "markdown",
      "source": [
        "1. self в  Python вказує на об'єкт, до якого викликається метод.\n",
        "2. __init__ є конструктором класу в Python. Метод викликається при створенні нового об'єкта класу та ініціалізує змінні."
      ],
      "metadata": {
        "id": "DyiPqNRvMasx"
      }
    },
    {
      "cell_type": "markdown",
      "source": [
        "5. (9б). Створіть клас Фігура без атрибутів, з методом get_area для отримання площі фігури, що повертає 0 та __add __, який приймає self та other в якості аргументів, а повертає суму площин фігур self та other."
      ],
      "metadata": {
        "id": "-6X8EGfjMd2y"
      }
    },
    {
      "cell_type": "code",
      "source": [
        "class Figure:\n",
        "    def get_area(self):\n",
        "        return 0\n",
        "\n",
        "    def __add__(self, other):\n",
        "        if isinstance(other, Figure):\n",
        "            return self.get_area() + other.get_area()\n",
        "        else:\n",
        "            return None\n",
        "\n",
        "figure1 = Figure()\n",
        "figure2 = Figure()\n",
        "area1 = figure1.get_area()\n",
        "area2 = figure2.get_area()\n",
        "total_area = figure1 + figure2\n",
        "\n",
        "print(f\"Area 1: {area1}\")\n",
        "print(f\"Area 2: {area2}\")\n",
        "print(f\"Total Area: {total_area}\")\n"
      ],
      "metadata": {
        "id": "4rvO_wYUMaEr",
        "colab": {
          "base_uri": "https://localhost:8080/"
        },
        "outputId": "32062c90-8bec-4dc8-86a5-dd89abb4ca9c"
      },
      "execution_count": 10,
      "outputs": [
        {
          "output_type": "stream",
          "name": "stdout",
          "text": [
            "Area 1: 0\n",
            "Area 2: 0\n",
            "Total Area: 0\n"
          ]
        }
      ]
    },
    {
      "cell_type": "markdown",
      "source": [
        "6. (11б). Створіть 2 дочірніх класи від Фігури: Трикутник та Коло, які мають атрибути, необхідні для розрахунку площин. Визначте метод get_area в кожному з них так, щоби вони розраховували площу в залежності від формули для кожного типу фігури. Створіть обʼєкт класу Трикутник та обʼєкт класу Коло. Виконайте операцію суми за допомогою оператора + між ними."
      ],
      "metadata": {
        "id": "SFcKnnv5Mo_z"
      }
    },
    {
      "cell_type": "code",
      "source": [
        "import math\n",
        "\n",
        "class Figure:\n",
        "    def get_area(self):\n",
        "        return 0\n",
        "\n",
        "    def __add__(self, other):\n",
        "        if isinstance(other, Figure):\n",
        "            return self.get_area() + other.get_area()\n",
        "        else:\n",
        "            return None\n",
        "\n",
        "class Triangle(Figure):\n",
        "    def __init__(self, base, height):\n",
        "        self.base = base\n",
        "        self.height = height\n",
        "\n",
        "    def get_area(self):\n",
        "        return 0.5 * self.base * self.height\n",
        "\n",
        "class Circle(Figure):\n",
        "    def __init__(self, radius):\n",
        "        self.radius = radius\n",
        "\n",
        "    def get_area(self):\n",
        "        return math.pi * self.radius ** 2\n",
        "\n",
        "triangle = Triangle(base=6, height=2)\n",
        "circle = Circle(radius=5)\n",
        "\n",
        "print(f\"Triangle Area: {triangle.get_area()}\")\n",
        "print(f\"Circle Area: {circle.get_area()}\")\n",
        "\n",
        "total_area = triangle + circle\n",
        "print(f\"Total Area: {total_area}\")\n"
      ],
      "metadata": {
        "id": "H3GVNr69Muf3",
        "colab": {
          "base_uri": "https://localhost:8080/"
        },
        "outputId": "25f05bba-3ab1-4e5e-9c89-707c809a7132"
      },
      "execution_count": 12,
      "outputs": [
        {
          "output_type": "stream",
          "name": "stdout",
          "text": [
            "Triangle Area: 6.0\n",
            "Circle Area: 78.53981633974483\n",
            "Total Area: 84.53981633974483\n"
          ]
        }
      ]
    },
    {
      "cell_type": "markdown",
      "source": [
        "7. (3б). Продемонструйте різницю між isinstance та issubclass."
      ],
      "metadata": {
        "id": "HCvR206YMvLK"
      }
    },
    {
      "cell_type": "code",
      "source": [
        "print(isinstance(triangle, Triangle))\n",
        "print(isinstance(circle, Circle))\n",
        "print(isinstance(triangle, Figure))\n",
        "print(isinstance(circle, Figure))\n",
        "\n",
        "print(issubclass(Triangle, Figure))\n",
        "print(issubclass(Circle, Figure))\n",
        "print(issubclass(Figure, Triangle))\n",
        "print(issubclass(Figure, Circle))"
      ],
      "metadata": {
        "id": "L_V1bBvDM0GN",
        "colab": {
          "base_uri": "https://localhost:8080/"
        },
        "outputId": "3b8e6ac9-38e5-461a-a0ed-2b2e2c3a67de"
      },
      "execution_count": 21,
      "outputs": [
        {
          "output_type": "stream",
          "name": "stdout",
          "text": [
            "True\n",
            "True\n",
            "True\n",
            "True\n",
            "True\n",
            "True\n",
            "False\n",
            "False\n"
          ]
        }
      ]
    },
    {
      "cell_type": "markdown",
      "source": [
        "8. (13б). Створіть клас BankAccount з приватними атрибутами balance та account_number. Реалізуйте методи поповнення та зняття коштів, забезпечивши належну інкапсуляцію. Підказка: використовуйте декоратори property та setter."
      ],
      "metadata": {
        "id": "jjsaBZ-iM0Qq"
      }
    },
    {
      "cell_type": "code",
      "source": [
        "class BankAccount:\n",
        "  def __init__(self, number):\n",
        "    self.__balance = 0\n",
        "    self.__account_number = number\n",
        "\n",
        "  @property\n",
        "  def balance(self):\n",
        "      return self.__balance\n",
        "\n",
        "  @property\n",
        "  def account_number(self):\n",
        "    return self.__account_number\n",
        "\n",
        "  def input(self, input):\n",
        "    if input > 0:\n",
        "      self.__balance += input\n",
        "    else:\n",
        "      print(\"Error occured, money input must be positive\")\n",
        "\n",
        "  def output(self, output):\n",
        "    if self.__balance >= output:\n",
        "      self.__balance -= output\n",
        "    else:\n",
        "      print(\"Error occured, not enough money to complete transaction\")\n",
        "\n",
        "bank_account1 = BankAccount(12345678)\n",
        "bank_account1.input(100)\n",
        "bank_account1.output(120)"
      ],
      "metadata": {
        "id": "xCvZ7lh8M7YA",
        "colab": {
          "base_uri": "https://localhost:8080/"
        },
        "outputId": "9427dcce-3c0f-4c64-d492-8e7a789e7af7"
      },
      "execution_count": 25,
      "outputs": [
        {
          "output_type": "stream",
          "name": "stdout",
          "text": [
            "Error occured, not enough money to complete transaction\n"
          ]
        }
      ]
    },
    {
      "cell_type": "markdown",
      "source": [
        "9. (11б). Створіть клас Library, який містить список об'єктів типу Book. Реалізуйте методи для додавання книги, видалення книги та відображення списку книг."
      ],
      "metadata": {
        "id": "tIzL2SJTM8ft"
      }
    },
    {
      "cell_type": "code",
      "source": [
        "class Book:\n",
        "    def __init__(self, title, author):\n",
        "        self.title = title\n",
        "        self.author = author\n",
        "\n",
        "class Library:\n",
        "    def __init__(self):\n",
        "        self.books = []\n",
        "\n",
        "    def add_book(self, book):\n",
        "        if isinstance(book, Book):\n",
        "            self.books.append(book)\n",
        "            print(f\"'{book.title}' by {book.author} added to the library.\")\n",
        "        else:\n",
        "            print(\"Error: Invalid object.\")\n",
        "\n",
        "    def remove_book(self, title):\n",
        "        for book in self.books:\n",
        "            if book.title == title:\n",
        "                self.books.remove(book)\n",
        "                print(f\"Book '{book.title}' by {book.author} removed from the library.\")\n",
        "                return\n",
        "        print(f\"Error: '{title}' not found in the library.\")\n",
        "\n",
        "    def display_books(self):\n",
        "        if not self.books:\n",
        "            print(\"The library is empty.\")\n",
        "        else:\n",
        "            print(\"Library Books:\")\n",
        "            for book in self.books:\n",
        "                print(f\"Title: {book.title}, Author: {book.author}\")\n",
        "\n",
        "library = Library()\n",
        "\n",
        "book1 = Book(title=\"Eragon\", author=\"Christopher Paolini\")\n",
        "book2 = Book(title=\"Eragon 2\", author=\"Christopher Paolini\")\n",
        "\n",
        "library.add_book(book1)\n",
        "library.add_book(book2)\n",
        "library.display_books()\n",
        "library.remove_book(\"Harry Potter\")\n",
        "library.display_books()\n"
      ],
      "metadata": {
        "id": "HWxfJKLtNAUZ",
        "colab": {
          "base_uri": "https://localhost:8080/"
        },
        "outputId": "559cac88-b3a7-458a-bb8a-dd9e91e2bc6b"
      },
      "execution_count": 26,
      "outputs": [
        {
          "output_type": "stream",
          "name": "stdout",
          "text": [
            "'Eragon' by Christopher Paolini added to the library.\n",
            "'Eragon 2' by Christopher Paolini added to the library.\n",
            "Library Books:\n",
            "Title: Eragon, Author: Christopher Paolini\n",
            "Title: Eragon 2, Author: Christopher Paolini\n",
            "Error: 'Harry Potter' not found in the library.\n",
            "Library Books:\n",
            "Title: Eragon, Author: Christopher Paolini\n",
            "Title: Eragon 2, Author: Christopher Paolini\n"
          ]
        }
      ]
    },
    {
      "cell_type": "markdown",
      "source": [
        "10. (13б). Створіть клас Person з атрибутами name та age. Створіть ще один клас Employee з такими атрибутами, як department та salary. Створіть клас Manager, який успадковує обидва класи Person та Employee. Продемонструйте використання множинної спадковості, створивши обʼєкт класу Manager та отримавши mro для цього класу."
      ],
      "metadata": {
        "id": "lmV8pAwwNIqu"
      }
    },
    {
      "cell_type": "code",
      "source": [
        "class Person:\n",
        "    def __init__(self, name, age):\n",
        "        self.name = name\n",
        "        self.age = age\n",
        "\n",
        "class Employee:\n",
        "    def __init__(self, department, salary):\n",
        "        self.department = department\n",
        "        self.salary = salary\n",
        "\n",
        "class Manager(Person, Employee):\n",
        "    def __init__(self, name, age, department, salary, title):\n",
        "        Person.__init__(self, name, age)\n",
        "        Employee.__init__(self, department, salary)\n",
        "        self.title = title\n",
        "\n",
        "manager = Manager(name=\"John Lennon\", age=29, department=\"IT\", salary=88200, title=\"Senior Developer\")\n",
        "\n",
        "print(\"Name:\", manager.name)\n",
        "print(\"Age:\", manager.age)\n",
        "print(\"Department:\", manager.department)\n",
        "print(\"Salary:\", manager.salary)\n",
        "print(\"Title:\", manager.title)\n",
        "print(\"Method Resolution Order (MRO) for Manager:\", Manager.mro())"
      ],
      "metadata": {
        "id": "R49grKlWNPeN",
        "colab": {
          "base_uri": "https://localhost:8080/"
        },
        "outputId": "986b858c-4d93-4a4c-fc97-dd843f63869f"
      },
      "execution_count": 30,
      "outputs": [
        {
          "output_type": "stream",
          "name": "stdout",
          "text": [
            "Name: John Lennon\n",
            "Age: 29\n",
            "Department: IT\n",
            "Salary: 88200\n",
            "Title: Senior Developer\n",
            "Method Resolution Order (MRO) for Manager: [<class '__main__.Manager'>, <class '__main__.Person'>, <class '__main__.Employee'>, <class 'object'>]\n"
          ]
        }
      ]
    },
    {
      "cell_type": "markdown",
      "source": [
        "# II. Iterator"
      ],
      "metadata": {
        "id": "dIJyUiNBFG8G"
      }
    },
    {
      "cell_type": "markdown",
      "source": [
        "11. (4б). Визначте рядок(str) з 4ма різними за значенням символами. Створіть ітератор на основі цього рядка. Викличте 5 разів функцію next на ітераторі, 4ри перших з них огорніть у ф-цію print()."
      ],
      "metadata": {
        "id": "13vsm0NyKIzL"
      }
    },
    {
      "cell_type": "code",
      "source": [
        "my_string = \"xyzp\"\n",
        "my_iterator = iter(my_string)\n",
        "for _ in range(4):\n",
        "    value = next(my_iterator)\n",
        "    if _ < 4:\n",
        "        print(value)"
      ],
      "metadata": {
        "id": "81ntabAkKuz-",
        "colab": {
          "base_uri": "https://localhost:8080/"
        },
        "outputId": "351ea5de-e588-48b5-eb7a-642dbefa7c5a"
      },
      "execution_count": 35,
      "outputs": [
        {
          "output_type": "stream",
          "name": "stdout",
          "text": [
            "x\n",
            "y\n",
            "z\n",
            "p\n"
          ]
        }
      ]
    },
    {
      "cell_type": "markdown",
      "source": [
        "А що якщо викликати цю ж функцію на рядку?"
      ],
      "metadata": {
        "id": "aekWHGXOLRsO"
      }
    },
    {
      "cell_type": "code",
      "source": [
        "my_string = \"xyzp\"\n",
        "for _ in range(4):\n",
        "    value = next(my_string)\n",
        "    if _ < 4:\n",
        "        print(value)"
      ],
      "metadata": {
        "id": "mxATGsErLV1i",
        "colab": {
          "base_uri": "https://localhost:8080/",
          "height": 216
        },
        "outputId": "396d078f-fa42-4c02-a10b-0c5df34300f0"
      },
      "execution_count": 36,
      "outputs": [
        {
          "output_type": "error",
          "ename": "TypeError",
          "evalue": "'str' object is not an iterator",
          "traceback": [
            "\u001b[0;31m---------------------------------------------------------------------------\u001b[0m",
            "\u001b[0;31mTypeError\u001b[0m                                 Traceback (most recent call last)",
            "\u001b[0;32m<ipython-input-36-856516cac398>\u001b[0m in \u001b[0;36m<cell line: 2>\u001b[0;34m()\u001b[0m\n\u001b[1;32m      1\u001b[0m \u001b[0mmy_string\u001b[0m \u001b[0;34m=\u001b[0m \u001b[0;34m\"xyzp\"\u001b[0m\u001b[0;34m\u001b[0m\u001b[0;34m\u001b[0m\u001b[0m\n\u001b[1;32m      2\u001b[0m \u001b[0;32mfor\u001b[0m \u001b[0m_\u001b[0m \u001b[0;32min\u001b[0m \u001b[0mrange\u001b[0m\u001b[0;34m(\u001b[0m\u001b[0;36m4\u001b[0m\u001b[0;34m)\u001b[0m\u001b[0;34m:\u001b[0m\u001b[0;34m\u001b[0m\u001b[0;34m\u001b[0m\u001b[0m\n\u001b[0;32m----> 3\u001b[0;31m     \u001b[0mvalue\u001b[0m \u001b[0;34m=\u001b[0m \u001b[0mnext\u001b[0m\u001b[0;34m(\u001b[0m\u001b[0mmy_string\u001b[0m\u001b[0;34m)\u001b[0m\u001b[0;34m\u001b[0m\u001b[0;34m\u001b[0m\u001b[0m\n\u001b[0m\u001b[1;32m      4\u001b[0m     \u001b[0;32mif\u001b[0m \u001b[0m_\u001b[0m \u001b[0;34m<\u001b[0m \u001b[0;36m4\u001b[0m\u001b[0;34m:\u001b[0m\u001b[0;34m\u001b[0m\u001b[0;34m\u001b[0m\u001b[0m\n\u001b[1;32m      5\u001b[0m         \u001b[0mprint\u001b[0m\u001b[0;34m(\u001b[0m\u001b[0mvalue\u001b[0m\u001b[0;34m)\u001b[0m\u001b[0;34m\u001b[0m\u001b[0;34m\u001b[0m\u001b[0m\n",
            "\u001b[0;31mTypeError\u001b[0m: 'str' object is not an iterator"
          ]
        }
      ]
    },
    {
      "cell_type": "markdown",
      "source": [
        " 12. (5б). Опишіть своїми словами в одному реченні, як ви розумієте різницю між ітерабельними обʼєктами та ітераторами (можна на прикладі)."
      ],
      "metadata": {
        "id": "XwtMEopwJ4pH"
      }
    },
    {
      "cell_type": "markdown",
      "source": [
        "1. Ітерабельні об'єкти - набори значень, по яких можна ітеруватися.\n",
        "2. Ітератори - об'єкти, що здатні ітеруватися по ітерабельним об'єктам та відстежувати стан ітерування, надавати послідовні значення з них"
      ],
      "metadata": {
        "id": "-sHrODc3KFn8"
      }
    },
    {
      "cell_type": "markdown",
      "source": [
        "13. (11б). Створіть клас, що має визначений Iterator Protocol та при кожному виклику next повертає літери англійської абетки, поки вони не вичерпаються."
      ],
      "metadata": {
        "id": "E9qJWmNbK8Gl"
      }
    },
    {
      "cell_type": "code",
      "source": [
        "class AZIterator:\n",
        "    def __init__(self):\n",
        "        self.current_letter = ord('A')\n",
        "\n",
        "    def __iter__(self):\n",
        "        return self\n",
        "\n",
        "    def __next__(self):\n",
        "        if self.current_letter <= ord('Z'):\n",
        "            letter = chr(self.current_letter)\n",
        "            self.current_letter += 1\n",
        "            return letter\n",
        "        else:\n",
        "            raise StopAsyncIteration\n",
        "az_iterator = AZIterator()\n",
        "\n",
        "for _ in range(26):\n",
        "    print(next(az_iterator))\n"
      ],
      "metadata": {
        "id": "cqx-g_RsLo6I",
        "colab": {
          "base_uri": "https://localhost:8080/"
        },
        "outputId": "7fa84988-1249-4a97-df05-249a04ecc6ae"
      },
      "execution_count": 38,
      "outputs": [
        {
          "output_type": "stream",
          "name": "stdout",
          "text": [
            "A\n",
            "B\n",
            "C\n",
            "D\n",
            "E\n",
            "F\n",
            "G\n",
            "H\n",
            "I\n",
            "J\n",
            "K\n",
            "L\n",
            "M\n",
            "N\n",
            "O\n",
            "P\n",
            "Q\n",
            "R\n",
            "S\n",
            "T\n",
            "U\n",
            "V\n",
            "W\n",
            "X\n",
            "Y\n",
            "Z\n"
          ]
        }
      ]
    },
    {
      "cell_type": "markdown",
      "source": [
        "# Вітаю! Ви велика(ий) молодець, що впоралась(вся). Похваліть себе та побалуйте чимось приємним. Я Вами пишаюся."
      ],
      "metadata": {
        "id": "Z3E3S_s1Fv7-"
      }
    }
  ]
}